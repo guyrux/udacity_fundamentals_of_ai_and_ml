{
 "cells": [
  {
   "cell_type": "markdown",
   "metadata": {},
   "source": [
    "# Aula 1: Estatística descritiva - Parte I"
   ]
  },
  {
   "cell_type": "markdown",
   "metadata": {},
   "source": [
    "|Quantitativos: | Contínuos                            | Discretos                                      |\n",
    "|---------------|--------------------------------------|------------------------------------------------|\n",
    "|---------------| Altura, idade, renda                 | Páginas em um livro, árvores em um quintal     |\n",
    "\n",
    "|Categóricos:   | Ordinais                             | Nominais                                       |\n",
    "|---------------|--------------------------------------|------------------------------------------------|  \n",
    "|---------------| Notas, classificação de pesquisas    | Gênero, estado civil, itens de café da manhã   |\n"
   ]
  },
  {
   "cell_type": "markdown",
   "metadata": {},
   "source": [
    "Analisando dados quantitativos\n",
    "Quatro aspectos para dados quantitativos\n",
    "\n",
    "Há quatro aspectos centrais à análise de dados quantitativos.\n",
    "\n",
    "    Medidas de tendência central\n",
    "    Medidas de dispersão\n",
    "    A forma dos dados\n",
    "    Outliers\n",
    "\n",
    "Analisando dados categóricos\n",
    "\n",
    "Embora isso não seja discutido no vídeo, a análise de dados categóricos possui menos dados a serem considerados. Dados categóricos geralmente são analisados pela contagem ou proporção de indivíduos que se encaixam em cada grupo. Por exemplo, se estivéssemos analisando as raças de cachorros, nós nos importaríamos mais com quantos cachorros são de cada raça ou qual a proporção de cães de cada raça.\n",
    "Medidas de tendência central\n",
    "\n",
    "Existem três medidas de tendência central:\n",
    "\n",
    "    Média\n",
    "    Mediana\n",
    "    Moda\n"
   ]
  },
  {
   "cell_type": "code",
   "execution_count": null,
   "metadata": {},
   "outputs": [],
   "source": [
    "import numpy\n",
    "import pandas\n",
    "import seaborn\n",
    "\n",
    "print(\"pronto!\")"
   ]
  }
 ],
 "metadata": {
  "kernelspec": {
   "display_name": "Python 3",
   "language": "python",
   "name": "python3"
  },
  "language_info": {
   "codemirror_mode": {
    "name": "ipython",
    "version": 3
   },
   "file_extension": ".py",
   "mimetype": "text/x-python",
   "name": "python",
   "nbconvert_exporter": "python",
   "pygments_lexer": "ipython3",
   "version": "3.7.0"
  }
 },
 "nbformat": 4,
 "nbformat_minor": 2
}
